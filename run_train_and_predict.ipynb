{
 "cells": [
  {
   "cell_type": "code",
   "execution_count": 1,
   "id": "d0fb52b1",
   "metadata": {},
   "outputs": [],
   "source": [
    "import os\n",
    "import argparse\n",
    "import json\n",
    "import numpy as np\n",
    "import pandas as pd\n",
    "\n",
    "from src.config import cfg\n",
    "from src.fold_train import run_kfold_training\n",
    "from src.ensemble import stacked_predict"
   ]
  },
  {
   "cell_type": "code",
   "execution_count": null,
   "id": "7983f207",
   "metadata": {},
   "outputs": [],
   "source": [
    "import sys\n",
    "\n",
    "if \"ipykernel\" in sys.modules:\n",
    "    sys.argv = [\"run_train_and_predict.ipynb\",\n",
    "                \"--mode\", \"train_then_predict\",\n",
    "                ]  # to avoid argparse error\n",
    "\n",
    "parser = argparse.ArgumentParser()\n",
    "parser.add_argument(\"--mode\", choices=[\"train\", \"predict\", \"train_then_predict\"], default=\"train_then_predict\")\n",
    "parser.add_argument(\"--test_csv\", default=None, help=\"Override cfg.test_csv for prediction\")\n",
    "parser.add_argument(\"--models_out_dir\", default=None, help=\"If provided, use this trained models root for prediction\")\n",
    "parser.add_argument(\"--save_preds\", default=\"predictions.csv\", help=\"Where to save predictions in predict modes\")\n",
    "args = parser.parse_args()\n",
    "\n",
    "out_dir = args.models_out_dir\n",
    "\n",
    "if args.mode in [\"train\", \"train_then_predict\"]:\n",
    "    out_dir = run_kfold_training()\n",
    "    print(\"Artifacts at:\", out_dir)\n",
    "\n",
    "if args.mode in [\"predict\", \"train_then_predict\"]:\n",
    "    test_csv = args.test_csv or cfg.test_csv\n",
    "    if test_csv is None or not os.path.exists(test_csv):\n",
    "        raise ValueError(f\"Test CSV not found: {test_csv}\")\n",
    "    if out_dir is None or not os.path.exists(out_dir):\n",
    "        raise ValueError(\"Missing models_out_dir to run prediction\")\n",
    "\n",
    "    preds, label_names = stacked_predict(test_csv, out_dir)\n",
    "\n",
    "    df_test = pd.read_csv(test_csv)\n",
    "    if \"id\" in df_test.columns:\n",
    "        sub = pd.DataFrame({\"id\": df_test[\"id\"].values, \"label\": [label_names[i] for i in preds]})\n",
    "    else:\n",
    "        sub = pd.DataFrame({\"label\": [label_names[i] for i in preds]})\n",
    "\n",
    "    sub_path = os.path.join(out_dir, args.save_preds)\n",
    "    sub.to_csv(sub_path, index=False)\n",
    "    print(f\"Saved predictions to {sub_path}\")\n",
    "\n",
    "    np.save(os.path.join(out_dir, \"predictions.npy\"), preds)\n",
    "    with open(os.path.join(out_dir, \"label_names.json\"), \"w\") as f:\n",
    "        json.dump({\"label_names\": label_names}, f, indent=2)\n",
    "print(f\"Saved preds npy and label names under {out_dir}\")"
   ]
  }
 ],
 "metadata": {
  "kernelspec": {
   "display_name": "llm",
   "language": "python",
   "name": "python3"
  },
  "language_info": {
   "codemirror_mode": {
    "name": "ipython",
    "version": 3
   },
   "file_extension": ".py",
   "mimetype": "text/x-python",
   "name": "python",
   "nbconvert_exporter": "python",
   "pygments_lexer": "ipython3",
   "version": "3.13.5"
  }
 },
 "nbformat": 4,
 "nbformat_minor": 5
}
